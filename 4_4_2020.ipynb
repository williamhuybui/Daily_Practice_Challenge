{
 "cells": [
  {
   "cell_type": "markdown",
   "metadata": {},
   "source": [
    "# KNN from scratch\n",
    "Let $x_i$ be a point in the test set, $y$ be list of points in the train set\n",
    "\n",
    "pseudo-code: \n",
    "* Find distance between $x_i$ and $y$\n",
    "* Find $k$ closest points in $y$ to $x_i$\n",
    "* The most frequent labels of $y$ is the label for $x_i$ "
   ]
  },
  {
   "cell_type": "markdown",
   "metadata": {},
   "source": [
    "#### Minkowski distance\n",
    "$$\\large d(x, y) = \\left(\\sum_{i=1}^{n}|x_i - y_i|^c\\right)^\\frac{1}{c}$$ \n",
    "\n",
    "$c = 1:$ Manhattan\n",
    "\n",
    "$c = 2: $ Euclidean"
   ]
  },
  {
   "cell_type": "markdown",
   "metadata": {},
   "source": [
    "## Functions"
   ]
  },
  {
   "cell_type": "code",
   "execution_count": 82,
   "metadata": {},
   "outputs": [],
   "source": [
    "import numpy as np\n",
    "import pandas as pd"
   ]
  },
  {
   "cell_type": "code",
   "execution_count": 23,
   "metadata": {},
   "outputs": [],
   "source": [
    "# Minkowski distance\n",
    "\n",
    "#Input: vector x,y,c\n",
    "#Output: a float\n",
    "#Test: Input=([1,3],[1,2],1) Output=sqrt(5)\n",
    "def Minkowski(x,y,c):\n",
    "    distance=0\n",
    "    for x_i,y_i in zip(x,y):\n",
    "        distance+=np.abs(x_i-y_i)**c\n",
    "    return distance**(1/c)"
   ]
  },
  {
   "cell_type": "code",
   "execution_count": 26,
   "metadata": {},
   "outputs": [],
   "source": [
    "# Find distance of one point to all the other points\n",
    "\n",
    "#Input: a point, list of other points, order of Minkowski distance\n",
    "#Ouput: list of distance\n",
    "#Test: Input=([1,1],([3,2],[3,3]),2). Output=[sqrt(5),sqrt(8)]\n",
    "\n",
    "def distance_one_to_others(x,others,c):\n",
    "    distance_list=[]\n",
    "    for y_i in others:\n",
    "        distance_list.append(Minkowski(x,y_i,c))\n",
    "    return distance_list"
   ]
  },
  {
   "cell_type": "code",
   "execution_count": 60,
   "metadata": {},
   "outputs": [],
   "source": [
    "#Find k nearest neighbors\n",
    "\n",
    "#Input: list of number, k neighbors\n",
    "#Output: index of the k shortest distance\n",
    "#Test: Input=([1,2.5,0.5],2), Output=[2,0]\n",
    "def k_nearest(distance_list,k):\n",
    "    KNN_locations=[]\n",
    "    ordered_dist=sorted(zip(range(len(distance_list)),distance_list)\n",
    "                        ,key=lambda x: x[1])\n",
    "    knn_indices=[i[0] for i in ordered_dist[:k]]\n",
    "    return knn_indices"
   ]
  },
  {
   "cell_type": "code",
   "execution_count": 62,
   "metadata": {},
   "outputs": [],
   "source": [
    "#Get the list of labels of knn of x in previous step. Get the majority vote \n",
    "\n",
    "#Input: train labels, KNN indices\n",
    "#Output: most frequent labels of the KNN indices\n",
    "\n",
    "#Test: Input=([0,1,1,1,0,0],[2,0,3]), Output =1 \n",
    "\n",
    "def label_prediction(knn_indices,labels):\n",
    "    knn_labels=pd.Series(np.array(labels)[knn_indices])\n",
    "    predicted_label=knn_labels.mode().values[0]\n",
    "    return predicted_label"
   ]
  },
  {
   "cell_type": "code",
   "execution_count": 65,
   "metadata": {},
   "outputs": [],
   "source": [
    "#Predict the test labels based on all the function we have created\n",
    "\n",
    "#Input: X_train, X_test, y_train, k, c\n",
    "#Output: List of labels corresponding to each coordinate of X_test\n",
    "\n",
    "#Test: Input=([(1,3),(1,5),(3,4),(4,4)],\n",
    "#             [(2,4)],\n",
    "#             ['Apple','Apple','Orange','Orange']\n",
    "#             k=3, c=2)\n",
    "# Output = Apple\n",
    "\n",
    "def knn_predict(X_train, X_test, y_train, k, c):\n",
    "    prediction=[]\n",
    "    for i in X_test:\n",
    "        distance_list=distance_one_to_others(i,X_train,c) \n",
    "        knn_indices=k_nearest(distance_list,k)\n",
    "        predicted_label=label_prediction(knn_indices,y_train)\n",
    "        prediction.append(predicted_label)\n",
    "    return prediction\n",
    "\n",
    "#knn_predict([(1,3),(1,5),(3,4),(4,4)],[(2,4)],['Apple','Apple','Orange','Orange'],k=3, c=2)"
   ]
  },
  {
   "cell_type": "markdown",
   "metadata": {},
   "source": [
    "## Test on Iris set"
   ]
  },
  {
   "cell_type": "code",
   "execution_count": 80,
   "metadata": {},
   "outputs": [
    {
     "name": "stdout",
     "output_type": "stream",
     "text": [
      "Testing Accuracy: 0.9473684210526315\n"
     ]
    }
   ],
   "source": [
    "# Import the necessary functions\n",
    "from sklearn.datasets import load_iris\n",
    "from sklearn.model_selection import train_test_split\n",
    "from sklearn.metrics import accuracy_score\n",
    "\n",
    "iris = load_iris()\n",
    "data = iris.data\n",
    "target = iris.target\n",
    "X_train, X_test, y_train, y_test = train_test_split(data, target,random_state=3)\n",
    "\n",
    "prediction=knn_predict(X_train, X_test, y_train, k=1, c=2)\n",
    "print(\"Testing Accuracy: {}\".format(accuracy_score(y_test, preds)))"
   ]
  }
 ],
 "metadata": {
  "kernelspec": {
   "display_name": "Python 3",
   "language": "python",
   "name": "python3"
  },
  "language_info": {
   "codemirror_mode": {
    "name": "ipython",
    "version": 3
   },
   "file_extension": ".py",
   "mimetype": "text/x-python",
   "name": "python",
   "nbconvert_exporter": "python",
   "pygments_lexer": "ipython3",
   "version": "3.7.3"
  }
 },
 "nbformat": 4,
 "nbformat_minor": 2
}
