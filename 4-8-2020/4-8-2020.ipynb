{
 "cells": [
  {
   "cell_type": "markdown",
   "metadata": {},
   "source": [
    "# How to Calculate the Output Shape of the CNN\n",
    "\n",
    "Most of the NN platforms out there do not require knowing the input shape after each conv layer. However, understanding how CNN shrinks the image is very important.\n",
    "\n",
    "The goal of this mini-project is to create a function that calculates the **output shape** of the image at each stage in the conv layers.\n",
    "\n",
    "## Concept\n",
    "There are a few assumption: filter is a square matrix, strides is consistent in both direction, and input has even dimention. I make these assumptions just to keep things simpler. It does not affect the calculation too much.\n",
    "\n",
    "* **Input $(x,y)$**: can be rbg $(x,y,3)$ or gray scale $(x,y,1)$\n",
    "\n",
    "* **Filter (kernel) $(f,f)$**: Operation is sum of the dot product. $6\\times6$ image when apply $3\\times3$ filter would result $4\\times4$ (with stride $1$). More general, if a $m$ vector sliding on a $n$ vector, it would result m-n+1 (counting the initial position as a step). Thus,\n",
    "\n",
    "New image size after filter:\n",
    "$$(x-f+1,y-f+1)$$\n",
    "\n",
    "**Note**: Some source argues that filter must be odd because avoiding distortion on the output. I say it is odd because even filter cause conflict with padding. You will see why in a moment.\n",
    "\n",
    "* **Padding (p)**: simply just add $p$ tiles to each size of $x$ and $y$ to avoid missing the pixel information from the borders\n",
    "\n",
    "New size after applying filter(f) with padding(p):\n",
    "$$(x-f+1+2p,y-f+1+2p)$$\n",
    "\n",
    "**Note** Set padding = \"same\" means output is same as the input size, which is:\n",
    "$$x-f+1+2p=x$$\n",
    "$$p=\\frac{f-1}{2}$$\n",
    "\n",
    "* **Stride (s)**: If we don't set stride carefully then we’d have issues with spacing. Normally, practitioners will increase the stride if they want receptive fields to overlap less and if they want smaller spatial dimensions.\n",
    "\n",
    "Hence, stride should satisfies the condition: \n",
    "$$\\{s:s|x+2p-f\\}$$\n",
    "\n",
    "Thus, new size after applying filter(f) with padding(p) and stride(s)\n",
    "$$(\\frac{x+2p-f}{s}+1 ,\\frac{y+2p-f}{s}+1)$$\n",
    "\n",
    "* **Max pooling**: Like filter but with the different operation (max, mean, mode,...). It is also called downsampling. Max pooling is more popular than average pooling because we are interested in the most important characteristics. Note that max-pooling it is almost always 2×2 pixels applied with a stride of 2 pixels. So if the input is odd then we will have a minor spacing problem. \n",
    "\n",
    "New size after everything:\n",
    "$$\\left (\\frac{\\frac{x+2p-f}{s}+1}{2} ,\\frac{\\frac{y+2p-f}{s}+1}{2}\\right)$$\n",
    "\n",
    "**Note**: $x+2p-f$ is odd so $\\frac{x+2p-f}{s}$ is also odd. "
   ]
  },
  {
   "cell_type": "markdown",
   "metadata": {},
   "source": [
    "## Apply"
   ]
  },
  {
   "cell_type": "code",
   "execution_count": 185,
   "metadata": {},
   "outputs": [],
   "source": [
    "# Everything that we discuss so far can be summarize to the following function\n",
    "def Output_calculator(x,y,f=1,s=1,p=0,max_p=False):\n",
    "    if p=='same':\n",
    "        p=(f-1)/2\n",
    "    if (x+2*p-f) % s !=0:\n",
    "        print(\"Invalid stride\")\n",
    "        return 0,0\n",
    "    if max_p==False:\n",
    "        mp=1\n",
    "    else:\n",
    "        mp=2\n",
    "        f=1\n",
    "        \n",
    "    x=((x+2*p-f)/(s)+1)/mp\n",
    "    y=((y+2*p-f)/(s)+1)/mp\n",
    "    print(x,y)\n",
    "    return x,y"
   ]
  },
  {
   "cell_type": "code",
   "execution_count": 186,
   "metadata": {},
   "outputs": [],
   "source": [
    "# Let's try to caculate the parameter of the following model\n",
    "from keras import layers\n",
    "from keras import models\n",
    "\n",
    "model = models.Sequential()\n",
    "model.add(layers.Conv2D(32,kernel_size=(5,5),strides=(1,1),\n",
    "                        padding='same', activation='relu',\n",
    "                        input_shape=(128, 128, 3)))\n",
    "model.add(layers.MaxPooling2D((2, 2)))\n",
    "\n",
    "model.add(layers.Conv2D(64, (3, 3), activation='relu'))\n",
    "model.add(layers.MaxPooling2D((2, 2)))\n",
    "\n",
    "model.add(layers.Conv2D(128, (3, 3), padding='same', activation='relu'))\n",
    "model.add(layers.MaxPooling2D((2, 2)))"
   ]
  },
  {
   "cell_type": "code",
   "execution_count": 187,
   "metadata": {},
   "outputs": [
    {
     "name": "stdout",
     "output_type": "stream",
     "text": [
      "128.0 128.0\n",
      "64.0 64.0\n",
      "--------------\n",
      "62.0 62.0\n",
      "31.0 31.0\n",
      "--------------\n",
      "31.0 31.0\n",
      "15.5 15.5\n",
      "--------------\n"
     ]
    }
   ],
   "source": [
    "# Using the function that we created above\n",
    "x,y=Output_calculator(x=128,y=128,f=5,s=1,p='same')\n",
    "x,y=Output_calculator(x=x,y=y,max_p=True)\n",
    "print(\"--------------\")\n",
    "x,y=Output_calculator(x=x,y=y,f=3)\n",
    "x,y=Output_calculator(x=x,y=y,max_p=True)\n",
    "print(\"--------------\")\n",
    "x,y=Output_calculator(x=x,y=y,f=3,p='same')\n",
    "x,y=Output_calculator(x=x,y=y,max_p=True)\n",
    "print(\"--------------\")"
   ]
  },
  {
   "cell_type": "code",
   "execution_count": 188,
   "metadata": {},
   "outputs": [
    {
     "name": "stdout",
     "output_type": "stream",
     "text": [
      "Model: \"sequential_31\"\n",
      "_________________________________________________________________\n",
      "Layer (type)                 Output Shape              Param #   \n",
      "=================================================================\n",
      "conv2d_77 (Conv2D)           (None, 128, 128, 32)      2432      \n",
      "_________________________________________________________________\n",
      "max_pooling2d_75 (MaxPooling (None, 64, 64, 32)        0         \n",
      "_________________________________________________________________\n",
      "conv2d_78 (Conv2D)           (None, 62, 62, 64)        18496     \n",
      "_________________________________________________________________\n",
      "max_pooling2d_76 (MaxPooling (None, 31, 31, 64)        0         \n",
      "_________________________________________________________________\n",
      "conv2d_79 (Conv2D)           (None, 31, 31, 128)       73856     \n",
      "_________________________________________________________________\n",
      "max_pooling2d_77 (MaxPooling (None, 15, 15, 128)       0         \n",
      "=================================================================\n",
      "Total params: 94,784\n",
      "Trainable params: 94,784\n",
      "Non-trainable params: 0\n",
      "_________________________________________________________________\n"
     ]
    }
   ],
   "source": [
    "# Let's compare it with the summary function\n",
    "model.summary()"
   ]
  }
 ],
 "metadata": {
  "kernelspec": {
   "display_name": "Python 3",
   "language": "python",
   "name": "python3"
  },
  "language_info": {
   "codemirror_mode": {
    "name": "ipython",
    "version": 3
   },
   "file_extension": ".py",
   "mimetype": "text/x-python",
   "name": "python",
   "nbconvert_exporter": "python",
   "pygments_lexer": "ipython3",
   "version": "3.7.3"
  }
 },
 "nbformat": 4,
 "nbformat_minor": 2
}
