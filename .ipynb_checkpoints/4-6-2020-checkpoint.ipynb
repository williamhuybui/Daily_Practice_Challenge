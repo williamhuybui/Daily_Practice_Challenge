{
 "cells": [
  {
   "cell_type": "markdown",
   "metadata": {},
   "source": [
    "# Linear Regression and Gradient Descent from Scratch\n",
    "\n",
    "## I. Concept\n",
    "\n",
    "2D-equation to estimate the linear relationship between $x$ and $y$: \n",
    "$$\\hat{y}=mx+b$$\n",
    "Let $\\epsilon = y-\\hat{y}$. For $n$ data points, the **sum of square residue** is a **cost function** (an error metric) with the formula:\n",
    "$$J=\\sum^n_{i=1}\\epsilon^2=\\sum^n_{i=1}(y_i-(mx_i+b))^2$$\n",
    "\n",
    "The goal is to find $m$ and $b$ such that $J$ is minimal. There are two main approaches: closed-form formula and iterative method. The first approach has been studied extensively over decades, however, it is usually computationally expensive. The second approach is more popular in machine learning since it is fast and easy to implement. The most basic and popular iterative method is **gradient descent**. \n",
    "Some time, a surface does not have a critical point (a surface is infinite in length and so it is not too hard to make up one). However, the surface make by our cost function J has a minimum point (since it is convex). We want to find the lowest location on surface J so that we minimize the eror between actuals and predictions. As the name suggests, gradient descent means moving downward. Gradient descent can converges to the minima very fast just by 2 steps: navigating the direction (**gradient**), and then walking toward it (**updating the location**). The distance for each move and the number of iteration are called **learning rate** and **epoch**, respectively.\n",
    "\n",
    "* First, to find gradient, apply partial derivatives on J to obtain:\n",
    "$$\\nabla J(m,b)=\\langle J_m(m,b),J_b(m,b) \\rangle=\\langle-2\\sum_{i=1}^n x_i\\epsilon_i, -2\\sum_{i=1}^n\\epsilon_i\\rangle$$\n",
    "\n",
    "* Next, we moving downward by repeatedly update the location. Use your great imagination on two formulas below and convince yourself why it works.\n",
    "\n",
    "`current_m` = `old_m` $ -  (J_m(m,b))\\cdot\\text{ learning rate }$\n",
    "\n",
    "`current_b` =  `old_b` $ - (J_b(m,b))\\cdot\\text{ learning rate }$\n",
    "\n",
    "\n",
    "**Note:** learning rate $< 1$"
   ]
  },
  {
   "cell_type": "markdown",
   "metadata": {},
   "source": [
    "## II. Code"
   ]
  },
  {
   "cell_type": "markdown",
   "metadata": {},
   "source": [
    "$$𝐽_𝑚(𝑚,𝑏)=-2\\sum_{i=1}^n x_i\\epsilon_i=-2\\sum_{i=1}^n x_i(y_i-\\hat{y})=-2\\sum_{i=1}^n x_i(y_i-(mx_i+b))$$"
   ]
  },
  {
   "cell_type": "markdown",
   "metadata": {},
   "source": [
    "$$𝐽_b(𝑚,𝑏)=-2\\sum_{i=1}^n \\epsilon_i=-2\\sum_{i=1}^n (y_i-\\hat{y})=-2\\sum_{i=1}^n (y_i-(mx_i+b))$$"
   ]
  },
  {
   "cell_type": "code",
   "execution_count": 272,
   "metadata": {},
   "outputs": [],
   "source": [
    "def step_gradient(x_list, y_list,b_current, m_current, lr = .0001):\n",
    "    J_b = 0\n",
    "    J_m = 0\n",
    "    for i in range(0, len(x_list)):\n",
    "        x = x_list[i]\n",
    "        y = y_list[i]\n",
    "        J_b += -2*(y-((m_current*x)+b_current))\n",
    "        J_m += -2*x*(y -((m_current*x)+b_current))\n",
    "    new_b = b_current - (lr * J_b)\n",
    "    new_m = m_current - (lr * J_m)\n",
    "    return new_m,new_b"
   ]
  },
  {
   "cell_type": "code",
   "execution_count": 273,
   "metadata": {},
   "outputs": [],
   "source": [
    "x_list=[1,3,5,6,9]\n",
    "y_list=[10,25,35,60,90]\n",
    "b = 0\n",
    "m = 1\n",
    "\n",
    "m1,b1=step_gradient(x_list,y_list,b, m) \n",
    "\n",
    "epoch=1000\n",
    "for i in range(epoch):\n",
    "    m,b=step_gradient(x_list,y_list,b, m) "
   ]
  },
  {
   "cell_type": "code",
   "execution_count": 277,
   "metadata": {},
   "outputs": [
    {
     "data": {
      "image/png": "[encoded data removed]",
      "text/plain": [
       "<Figure size 432x288 with 1 Axes>"
      ]
     },
     "metadata": {
      "needs_background": "light"
     },
     "output_type": "display_data"
    }
   ],
   "source": [
    "plt.plot(x_list,[m1*x+b1 for x in x_list ],'g',label=\"1 epoch\")\n",
    "plt.plot(x_list,[m*x+b for x in x_list ],'r',label=\"1000 epochs\")\n",
    "plt.scatter(x_list,y_list)\n",
    "plt.legend()\n",
    "plt.show()"
   ]
  }
 ],
 "metadata": {
  "kernelspec": {
   "display_name": "Python 3",
   "language": "python",
   "name": "python3"
  },
  "language_info": {
   "codemirror_mode": {
    "name": "ipython",
    "version": 3
   },
   "file_extension": ".py",
   "mimetype": "text/x-python",
   "name": "python",
   "nbconvert_exporter": "python",
   "pygments_lexer": "ipython3",
   "version": "3.7.3"
  }
 },
 "nbformat": 4,
 "nbformat_minor": 2
}
