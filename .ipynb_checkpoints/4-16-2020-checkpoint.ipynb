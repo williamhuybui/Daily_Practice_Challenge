{
 "cells": [
  {
   "cell_type": "code",
   "execution_count": 1,
   "metadata": {},
   "outputs": [],
   "source": [
    "import pandas as pd\n",
    "import numpy as np"
   ]
  },
  {
   "cell_type": "markdown",
   "metadata": {},
   "source": [
    "## 7) Moderate (since it requires knowledge of Markov Chain and Linear Algebra)\n",
    "\n",
    "In a particular area, there are 2 types of weather: sunny and rainy. The following is observed across a couple year period.\n",
    "\n",
    "* The probability of weather staying sunny the following week is 80%.\n",
    "\n",
    "* The probability of the weather changing from sunny to rainy is 20%.\n",
    "\n",
    "* The probability of the weather staying rainy from the following week is 70%.\n",
    "\n",
    "* The probability of weather changing from rainy to sunny over a week is 30%.\n",
    "\n",
    "Given this information, can you create a transition matrix and calculate the steady state vector?\n",
    "\n",
    "If you need a refresher, here is a resource on [Markov Chains](https://en.wikipedia.org/wiki/Markov_chain)."
   ]
  },
  {
   "cell_type": "markdown",
   "metadata": {},
   "source": [
    "### Answer\n",
    "\n",
    "If you do not know about Markov Chains, watch the first 2 min of this [video](https://www.youtube.com/watch?v=Flj52QaHYVU) and the first 2 min of this [video](https://www.youtube.com/watch?v=8noldJCb86Y)"
   ]
  },
  {
   "cell_type": "code",
   "execution_count": 5,
   "metadata": {},
   "outputs": [
    {
     "data": {
      "text/html": [
       "<div>\n",
       "<style scoped>\n",
       "    .dataframe tbody tr th:only-of-type {\n",
       "        vertical-align: middle;\n",
       "    }\n",
       "\n",
       "    .dataframe tbody tr th {\n",
       "        vertical-align: top;\n",
       "    }\n",
       "\n",
       "    .dataframe thead th {\n",
       "        text-align: right;\n",
       "    }\n",
       "</style>\n",
       "<table border=\"1\" class=\"dataframe\">\n",
       "  <thead>\n",
       "    <tr style=\"text-align: right;\">\n",
       "      <th></th>\n",
       "      <th>Sunny</th>\n",
       "      <th>Rainy</th>\n",
       "    </tr>\n",
       "  </thead>\n",
       "  <tbody>\n",
       "    <tr>\n",
       "      <th>Sunny</th>\n",
       "      <td>0.8</td>\n",
       "      <td>0.2</td>\n",
       "    </tr>\n",
       "    <tr>\n",
       "      <th>Rainy</th>\n",
       "      <td>0.3</td>\n",
       "      <td>0.7</td>\n",
       "    </tr>\n",
       "  </tbody>\n",
       "</table>\n",
       "</div>"
      ],
      "text/plain": [
       "       Sunny  Rainy\n",
       "Sunny    0.8    0.2\n",
       "Rainy    0.3    0.7"
      ]
     },
     "execution_count": 5,
     "metadata": {},
     "output_type": "execute_result"
    }
   ],
   "source": [
    "#Summary \n",
    "df=pd.DataFrame({'Sunny': [0.8,0.3], 'Rainy':[0.2,0.7]}, index=['Sunny','Rainy'])\n",
    "df"
   ]
  },
  {
   "cell_type": "markdown",
   "metadata": {},
   "source": [
    "Basically, a steady vector state L is the vector that cannon be transform by the transition matrix, ie:\n",
    "\n",
    "$$A\\times L=L$$\n",
    "$$(A-I)L=0$$\n",
    "\n",
    "$I$ is the identity matrix. Note that by solving this equation, you will have infinitely many solution. \n",
    "\n",
    "Therefore, we also need to take into account that the row must add up to 1."
   ]
  },
  {
   "cell_type": "code",
   "execution_count": 36,
   "metadata": {},
   "outputs": [
    {
     "data": {
      "text/plain": [
       "array([[-0.2,  0.3],\n",
       "       [ 0.2, -0.3]])"
      ]
     },
     "execution_count": 36,
     "metadata": {},
     "output_type": "execute_result"
    }
   ],
   "source": [
    "A=np.array([[0.8,0.2],[0.3,0.7]])\n",
    "I=np.array([[1,0],[0,1]])\n",
    "left=(A-I).T\n",
    "left"
   ]
  },
  {
   "cell_type": "code",
   "execution_count": 38,
   "metadata": {},
   "outputs": [
    {
     "name": "stdout",
     "output_type": "stream",
     "text": [
      "The steady vector state L is\n"
     ]
    },
    {
     "data": {
      "text/plain": [
       "array([0.6, 0.4])"
      ]
     },
     "execution_count": 38,
     "metadata": {},
     "output_type": "execute_result"
    }
   ],
   "source": [
    "#The top one can be reduce to 0.2x - 0.3y =0\n",
    "#Also, x+y=1\n",
    "A_new=np.array([[1,1],[0.2,-0.3]])\n",
    "b=np.array([1,0]).T\n",
    "\n",
    "print(\"The steady vector state L is\")\n",
    "np.linalg.solve(A_new,b)"
   ]
  },
  {
   "cell_type": "markdown",
   "metadata": {},
   "source": [
    "## 8) Easy\n",
    "Suppose you're given an array, $a$, as well as a position, $p$. Write a function to reverse your array, but only up to the position given in $p$. The rest of your array should remain untouched.\n",
    "\n",
    "For example, given the following:\n",
    "\n",
    "```\n",
    "a = [1, 3, 4, 6]\n",
    "p = 2\n",
    "```\n",
    "\n",
    "Your function should return:\n",
    "```\n",
    "[3,1,4,6]\n",
    "```"
   ]
  },
  {
   "cell_type": "code",
   "execution_count": 44,
   "metadata": {},
   "outputs": [
    {
     "data": {
      "text/plain": [
       "[3, 1, 4, 6]"
      ]
     },
     "execution_count": 44,
     "metadata": {},
     "output_type": "execute_result"
    }
   ],
   "source": [
    "#Thought: just cut off the array at that position and add them back\n",
    "\n",
    "def p_inverse(array_a,p):\n",
    "    a_change=array_a[:p]\n",
    "    new_array=[]\n",
    "    for i in range(len(a_change)):\n",
    "        new_array.append(a_change[-(i+1)])\n",
    "        \n",
    "    new_array=new_array+array_a[p:]\n",
    "    return new_array\n",
    "\n",
    "p_inverse([1, 3, 4, 6],2)"
   ]
  },
  {
   "cell_type": "markdown",
   "metadata": {},
   "source": []
  }
 ],
 "metadata": {
  "kernelspec": {
   "display_name": "Python 3",
   "language": "python",
   "name": "python3"
  },
  "language_info": {
   "codemirror_mode": {
    "name": "ipython",
    "version": 3
   },
   "file_extension": ".py",
   "mimetype": "text/x-python",
   "name": "python",
   "nbconvert_exporter": "python",
   "pygments_lexer": "ipython3",
   "version": "3.7.3"
  }
 },
 "nbformat": 4,
 "nbformat_minor": 2
}
