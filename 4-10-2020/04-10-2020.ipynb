{
 "cells": [
  {
   "cell_type": "code",
   "execution_count": 1,
   "metadata": {},
   "outputs": [],
   "source": [
    "import sqlite3\n",
    "import pandas as pd"
   ]
  },
  {
   "cell_type": "code",
   "execution_count": 2,
   "metadata": {},
   "outputs": [
    {
     "name": "stdout",
     "output_type": "stream",
     "text": [
      "\u001b[31malbum.db\u001b[m\u001b[m* \u001b[31mtest.db\u001b[m\u001b[m*  \u001b[31mworld.db\u001b[m\u001b[m*\r\n"
     ]
    }
   ],
   "source": [
    "ls Data"
   ]
  },
  {
   "cell_type": "markdown",
   "metadata": {},
   "source": [
    "# I. Preparation\n",
    "\n",
    "1) SQL "
   ]
  },
  {
   "cell_type": "code",
   "execution_count": 19,
   "metadata": {},
   "outputs": [],
   "source": [
    "# Create connection\n",
    "conn_album = sqlite3.Connection('Data/album.db') \n",
    "conn_test = sqlite3.Connection('Data/test.db')\n",
    "conn_world = sqlite3.Connection('Data/world.db')\n",
    "\n",
    "# Create cursor object\n",
    "cur_album = conn_album.cursor()\n",
    "cur_test = conn_test.cursor()\n",
    "cur_world = conn_world.cursor()"
   ]
  },
  {
   "cell_type": "code",
   "execution_count": 44,
   "metadata": {},
   "outputs": [],
   "source": [
    "def display_sql(cur):\n",
    "    df = pd.DataFrame(cur.fetchall())\n",
    "    print(df)\n",
    "    df.columns = [x[0] for x in cur.description]\n",
    "    return df"
   ]
  },
  {
   "cell_type": "markdown",
   "metadata": {},
   "source": [
    "2) DataFrame"
   ]
  },
  {
   "cell_type": "code",
   "execution_count": 45,
   "metadata": {},
   "outputs": [],
   "source": [
    "def df_table(cur,name):\n",
    "    cur.execute(\"\"\"SELECT * FROM {};\"\"\".format(name))\n",
    "    df = pd.DataFrame(cur.fetchall())\n",
    "    \n",
    "    df.columns = [x[0] for x in cur.description]\n",
    "    return df"
   ]
  },
  {
   "cell_type": "code",
   "execution_count": 46,
   "metadata": {},
   "outputs": [],
   "source": [
    "album=df_table(cur_album,'album')\n",
    "track=df_table(cur_album,'track')\n",
    "\n",
    "customer=df_table(cur_test,'customer')\n",
    "item=df_table(cur_test,'item')\n",
    "sale=df_table(cur_test,'sale')\n",
    "\n",
    "city=df_table(cur_world,'city')\n",
    "country=df_table(cur_world,'country')"
   ]
  },
  {
   "cell_type": "markdown",
   "metadata": {},
   "source": [
    "# II. Problem\n",
    "\n",
    "1) Create a table and insert, delete, and update the data, then delete this table "
   ]
  },
  {
   "cell_type": "code",
   "execution_count": 50,
   "metadata": {},
   "outputs": [
    {
     "data": {
      "text/plain": [
       "<sqlite3.Cursor at 0x11c372b20>"
      ]
     },
     "execution_count": 50,
     "metadata": {},
     "output_type": "execute_result"
    }
   ],
   "source": [
    "cur_album.execute(\"\"\"SELECT * FROM dummy\"\"\")\n"
   ]
  },
  {
   "cell_type": "code",
   "execution_count": 51,
   "metadata": {},
   "outputs": [
    {
     "data": {
      "text/plain": [
       "[]"
      ]
     },
     "execution_count": 51,
     "metadata": {},
     "output_type": "execute_result"
    }
   ],
   "source": [
    "#SQL\n",
    "#Let say this new table is in album db\n",
    "\n",
    "cur_album.execute(\"\"\"DROP TABLE IF EXISTS dummy;\"\"\")\n",
    "cur_album.execute(\"\"\"CREATE TABLE dummy (Country TEXT, infected INTEGER);\"\"\")\n",
    "cur_album.execute(\"\"\"INSERT INTO dummy (Country,infected) VALUES ('USA', 502876);\"\"\")\n",
    "cur_album.execute(\"\"\"INSERT INTO dummy (Country,infected) VALUES ('SPAIN', 158273);\"\"\")\n",
    "\n",
    "cur_album.fetchall()"
   ]
  },
  {
   "cell_type": "code",
   "execution_count": 49,
   "metadata": {},
   "outputs": [
    {
     "ename": "NameError",
     "evalue": "name 'dummy' is not defined",
     "output_type": "error",
     "traceback": [
      "\u001b[0;31m---------------------------------------------------------------------------\u001b[0m",
      "\u001b[0;31mNameError\u001b[0m                                 Traceback (most recent call last)",
      "\u001b[0;32m<ipython-input-49-6e9ca64a4ea9>\u001b[0m in \u001b[0;36m<module>\u001b[0;34m\u001b[0m\n\u001b[0;32m----> 1\u001b[0;31m \u001b[0mdf_table\u001b[0m\u001b[0;34m(\u001b[0m\u001b[0mcur_album\u001b[0m\u001b[0;34m,\u001b[0m\u001b[0mdummy\u001b[0m\u001b[0;34m)\u001b[0m\u001b[0;34m\u001b[0m\u001b[0;34m\u001b[0m\u001b[0m\n\u001b[0m",
      "\u001b[0;31mNameError\u001b[0m: name 'dummy' is not defined"
     ]
    }
   ],
   "source": [
    "df_table(cur_album,dummy)"
   ]
  },
  {
   "cell_type": "code",
   "execution_count": null,
   "metadata": {},
   "outputs": [],
   "source": []
  }
 ],
 "metadata": {
  "kernelspec": {
   "display_name": "Python 3",
   "language": "python",
   "name": "python3"
  },
  "language_info": {
   "codemirror_mode": {
    "name": "ipython",
    "version": 3
   },
   "file_extension": ".py",
   "mimetype": "text/x-python",
   "name": "python",
   "nbconvert_exporter": "python",
   "pygments_lexer": "ipython3",
   "version": "3.7.3"
  }
 },
 "nbformat": 4,
 "nbformat_minor": 2
}
