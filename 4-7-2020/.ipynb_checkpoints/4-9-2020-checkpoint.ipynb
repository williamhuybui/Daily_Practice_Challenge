{
 "cells": [
  {
   "cell_type": "code",
   "execution_count": null,
   "metadata": {},
   "outputs": [],
   "source": [
    "import glob\n",
    "train_path_predator = \"alien-vs-predator-images/data/train/predator/*\"\n",
    "train_path_alien=\"alien-vs-predator-images/data/train/alien/*\"\n",
    "test_path_predator=\"alien-vs-predator-images/data/validation/predator/*\"\n",
    "test_path_alien=\"alien-vs-predator-images/data/validation/alien/*\"\n",
    "\n",
    "X_train, X_test, y_train, y_test=[],[],[],[]\n",
    "\n",
    "for label,train_path in enumerate([train_path_predator,train_path_alien]):\n",
    "    for image in glob.glob(train_path, recursive=True):\n",
    "            X_train.append(image)\n",
    "            y_train.append(label)\n",
    "            \n",
    "for label,train_path in enumerate([train_path_predator,train_path_alien]):\n",
    "    for image in glob.glob(train_path, recursive=True):\n",
    "            X_test.append(image)\n",
    "            y_test.append(label)\n",
    "print(\"Train size:\", len(y_train))\n",
    "print(\"Test size:\", len(y_test))"
   ]
  },
  {
   "cell_type": "code",
   "execution_count": null,
   "metadata": {},
   "outputs": [],
   "source": [
    "#Redistribute train and test\n",
    "#20 percent for test set ~139\n",
    "X=X_train+X_test\n",
    "y=y_train+y_test\n",
    "\n",
    "X_test=X[:139]\n",
    "y_test=y[:139]\n",
    "X_train=X[139:]\n",
    "y_train=y[139:]"
   ]
  },
  {
   "cell_type": "code",
   "execution_count": null,
   "metadata": {},
   "outputs": [],
   "source": [
    "# Convert from image to tensor and display tensor\n",
    "from keras.preprocessing import image\n",
    "import numpy as np\n",
    "import matplotlib.pyplot as plt\n",
    "\n",
    "\n",
    "img_path = \"alien-vs-predator-images/data/train/predator/6.jpg\"\n",
    "\n",
    "img = image.load_img(img_path, target_size=(256, 256))\n",
    "img_tensor = image.img_to_array(img)\n",
    "print(img_tensor.shape)\n",
    "\n",
    "#Not sure why but must include this to display image\n",
    "img_tensor = np.expand_dims(img_tensor, axis=0) \n",
    "img_tensor /= 255.\n",
    "print(img_tensor.shape)\n",
    "\n",
    "#Preview an image\n",
    "plt.imshow(img_tensor[0]) #Can do plt.imshow(img)\n",
    "plt.show()"
   ]
  }
 ],
 "metadata": {
  "kernelspec": {
   "display_name": "Python 3",
   "language": "python",
   "name": "python3"
  },
  "language_info": {
   "codemirror_mode": {
    "name": "ipython",
    "version": 3
   },
   "file_extension": ".py",
   "mimetype": "text/x-python",
   "name": "python",
   "nbconvert_exporter": "python",
   "pygments_lexer": "ipython3",
   "version": "3.7.3"
  }
 },
 "nbformat": 4,
 "nbformat_minor": 2
}
