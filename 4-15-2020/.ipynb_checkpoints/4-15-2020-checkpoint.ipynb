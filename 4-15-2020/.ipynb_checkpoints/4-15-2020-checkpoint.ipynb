{
 "cells": [
  {
   "cell_type": "markdown",
   "metadata": {},
   "source": [
    "## 1) Easy\n",
    "Import json file and extract features"
   ]
  },
  {
   "cell_type": "code",
   "execution_count": 31,
   "metadata": {},
   "outputs": [],
   "source": [
    "import json\n",
    "import pandas as pd"
   ]
  },
  {
   "cell_type": "code",
   "execution_count": 167,
   "metadata": {},
   "outputs": [],
   "source": [
    "f = open('ny_times_movies.json','r')\n",
    "data=json.load(f)"
   ]
  },
  {
   "cell_type": "code",
   "execution_count": 164,
   "metadata": {
    "scrolled": true
   },
   "outputs": [
    {
     "data": {
      "text/html": [
       "<div>\n",
       "<style scoped>\n",
       "    .dataframe tbody tr th:only-of-type {\n",
       "        vertical-align: middle;\n",
       "    }\n",
       "\n",
       "    .dataframe tbody tr th {\n",
       "        vertical-align: top;\n",
       "    }\n",
       "\n",
       "    .dataframe thead th {\n",
       "        text-align: right;\n",
       "    }\n",
       "</style>\n",
       "<table border=\"1\" class=\"dataframe\">\n",
       "  <thead>\n",
       "    <tr style=\"text-align: right;\">\n",
       "      <th></th>\n",
       "      <th>byline</th>\n",
       "      <th>critics_pick</th>\n",
       "      <th>date_updated</th>\n",
       "      <th>display_title</th>\n",
       "      <th>headline</th>\n",
       "      <th>link</th>\n",
       "      <th>mpaa_rating</th>\n",
       "      <th>multimedia</th>\n",
       "      <th>opening_date</th>\n",
       "      <th>publication_date</th>\n",
       "      <th>summary_short</th>\n",
       "    </tr>\n",
       "  </thead>\n",
       "  <tbody>\n",
       "    <tr>\n",
       "      <th>0</th>\n",
       "      <td>A.O. SCOTT</td>\n",
       "      <td>1</td>\n",
       "      <td>2018-10-17 02:44:23</td>\n",
       "      <td>Can You Ever Forgive Me</td>\n",
       "      <td>Review: Melissa McCarthy Is Criminally Good in...</td>\n",
       "      <td>{'type': 'article', 'url': 'http://www.nytimes...</td>\n",
       "      <td>R</td>\n",
       "      <td>{'type': 'mediumThreeByTwo210', 'src': 'https:...</td>\n",
       "      <td>2018-10-19</td>\n",
       "      <td>2018-10-16</td>\n",
       "      <td>Marielle Heller directs a true story of litera...</td>\n",
       "    </tr>\n",
       "    <tr>\n",
       "      <th>1</th>\n",
       "      <td>BEN KENIGSBERG</td>\n",
       "      <td>1</td>\n",
       "      <td>2018-10-16 11:04:03</td>\n",
       "      <td>Charm City</td>\n",
       "      <td>Review: ‘Charm City’ Vividly Captures the Stre...</td>\n",
       "      <td>{'type': 'article', 'url': 'http://www.nytimes...</td>\n",
       "      <td></td>\n",
       "      <td>{'type': 'mediumThreeByTwo210', 'src': 'https:...</td>\n",
       "      <td>2018-04-22</td>\n",
       "      <td>2018-10-16</td>\n",
       "      <td>Marilyn Ness’s documentary is dedicated to the...</td>\n",
       "    </tr>\n",
       "  </tbody>\n",
       "</table>\n",
       "</div>"
      ],
      "text/plain": [
       "           byline  critics_pick         date_updated            display_title  \\\n",
       "0      A.O. SCOTT             1  2018-10-17 02:44:23  Can You Ever Forgive Me   \n",
       "1  BEN KENIGSBERG             1  2018-10-16 11:04:03               Charm City   \n",
       "\n",
       "                                            headline  \\\n",
       "0  Review: Melissa McCarthy Is Criminally Good in...   \n",
       "1  Review: ‘Charm City’ Vividly Captures the Stre...   \n",
       "\n",
       "                                                link mpaa_rating  \\\n",
       "0  {'type': 'article', 'url': 'http://www.nytimes...           R   \n",
       "1  {'type': 'article', 'url': 'http://www.nytimes...               \n",
       "\n",
       "                                          multimedia opening_date  \\\n",
       "0  {'type': 'mediumThreeByTwo210', 'src': 'https:...   2018-10-19   \n",
       "1  {'type': 'mediumThreeByTwo210', 'src': 'https:...   2018-04-22   \n",
       "\n",
       "  publication_date                                      summary_short  \n",
       "0       2018-10-16  Marielle Heller directs a true story of litera...  \n",
       "1       2018-10-16  Marilyn Ness’s documentary is dedicated to the...  "
      ]
     },
     "execution_count": 164,
     "metadata": {},
     "output_type": "execute_result"
    }
   ],
   "source": [
    "df=pd.DataFrame(data['results'])\n",
    "df.head(2)"
   ]
  },
  {
   "cell_type": "code",
   "execution_count": 45,
   "metadata": {},
   "outputs": [],
   "source": [
    "df['url']=df.link.map(lambda x: x['url'])\n",
    "df['type']=df.link.map(lambda x: x['type'])\n",
    "df=df.drop(['link','multimedia'], axis = 1)"
   ]
  },
  {
   "cell_type": "code",
   "execution_count": 47,
   "metadata": {},
   "outputs": [
    {
     "data": {
      "text/html": [
       "<div>\n",
       "<style scoped>\n",
       "    .dataframe tbody tr th:only-of-type {\n",
       "        vertical-align: middle;\n",
       "    }\n",
       "\n",
       "    .dataframe tbody tr th {\n",
       "        vertical-align: top;\n",
       "    }\n",
       "\n",
       "    .dataframe thead th {\n",
       "        text-align: right;\n",
       "    }\n",
       "</style>\n",
       "<table border=\"1\" class=\"dataframe\">\n",
       "  <thead>\n",
       "    <tr style=\"text-align: right;\">\n",
       "      <th></th>\n",
       "      <th>byline</th>\n",
       "      <th>critics_pick</th>\n",
       "      <th>date_updated</th>\n",
       "      <th>display_title</th>\n",
       "      <th>headline</th>\n",
       "      <th>link</th>\n",
       "      <th>mpaa_rating</th>\n",
       "      <th>multimedia</th>\n",
       "      <th>opening_date</th>\n",
       "      <th>publication_date</th>\n",
       "      <th>summary_short</th>\n",
       "    </tr>\n",
       "  </thead>\n",
       "  <tbody>\n",
       "    <tr>\n",
       "      <th>0</th>\n",
       "      <td>A.O. SCOTT</td>\n",
       "      <td>1</td>\n",
       "      <td>2018-10-17 02:44:23</td>\n",
       "      <td>Can You Ever Forgive Me</td>\n",
       "      <td>Review: Melissa McCarthy Is Criminally Good in...</td>\n",
       "      <td>{'type': 'article', 'url': 'http://www.nytimes...</td>\n",
       "      <td>R</td>\n",
       "      <td>{'type': 'mediumThreeByTwo210', 'src': 'https:...</td>\n",
       "      <td>2018-10-19</td>\n",
       "      <td>2018-10-16</td>\n",
       "      <td>Marielle Heller directs a true story of litera...</td>\n",
       "    </tr>\n",
       "    <tr>\n",
       "      <th>1</th>\n",
       "      <td>BEN KENIGSBERG</td>\n",
       "      <td>1</td>\n",
       "      <td>2018-10-16 11:04:03</td>\n",
       "      <td>Charm City</td>\n",
       "      <td>Review: ‘Charm City’ Vividly Captures the Stre...</td>\n",
       "      <td>{'type': 'article', 'url': 'http://www.nytimes...</td>\n",
       "      <td></td>\n",
       "      <td>{'type': 'mediumThreeByTwo210', 'src': 'https:...</td>\n",
       "      <td>2018-04-22</td>\n",
       "      <td>2018-10-16</td>\n",
       "      <td>Marilyn Ness’s documentary is dedicated to the...</td>\n",
       "    </tr>\n",
       "  </tbody>\n",
       "</table>\n",
       "</div>"
      ],
      "text/plain": [
       "           byline  critics_pick         date_updated            display_title  \\\n",
       "0      A.O. SCOTT             1  2018-10-17 02:44:23  Can You Ever Forgive Me   \n",
       "1  BEN KENIGSBERG             1  2018-10-16 11:04:03               Charm City   \n",
       "\n",
       "                                            headline  \\\n",
       "0  Review: Melissa McCarthy Is Criminally Good in...   \n",
       "1  Review: ‘Charm City’ Vividly Captures the Stre...   \n",
       "\n",
       "                                                link mpaa_rating  \\\n",
       "0  {'type': 'article', 'url': 'http://www.nytimes...           R   \n",
       "1  {'type': 'article', 'url': 'http://www.nytimes...               \n",
       "\n",
       "                                          multimedia opening_date  \\\n",
       "0  {'type': 'mediumThreeByTwo210', 'src': 'https:...   2018-10-19   \n",
       "1  {'type': 'mediumThreeByTwo210', 'src': 'https:...   2018-04-22   \n",
       "\n",
       "  publication_date                                      summary_short  \n",
       "0       2018-10-16  Marielle Heller directs a true story of litera...  \n",
       "1       2018-10-16  Marilyn Ness’s documentary is dedicated to the...  "
      ]
     },
     "execution_count": 47,
     "metadata": {},
     "output_type": "execute_result"
    }
   ],
   "source": [
    "df.head(2)"
   ]
  },
  {
   "cell_type": "markdown",
   "metadata": {},
   "source": [
    "## 2) Easy\n",
    "Given an array and an integer A, find the maximum for each contiguous subarray of size A.\n",
    "\n",
    "Input: array = [1, 2, 3, 1, 4, 5, 2, 3, 6], A = 3\n",
    "    \n",
    "Output: 3 3 4 5 5 5 6"
   ]
  },
  {
   "cell_type": "code",
   "execution_count": 60,
   "metadata": {},
   "outputs": [
    {
     "data": {
      "text/plain": [
       "[3, 3, 4, 5, 5, 5, 6]"
      ]
     },
     "execution_count": 60,
     "metadata": {},
     "output_type": "execute_result"
    }
   ],
   "source": [
    "def function_(array_:list, size:int)->list:\n",
    "    output_=[]\n",
    "    for i in range(len(array_)-size+1):\n",
    "        output_.append(max(array_[i:i+size]))\n",
    "    return output_\n",
    "function_([1, 2, 3, 1, 4, 5, 2, 3, 6],3)  "
   ]
  },
  {
   "cell_type": "markdown",
   "metadata": {},
   "source": [
    "## 3) Hard\n",
    "\n",
    "Suppose you're given a matrix of 1s and 0s that represents a map of rivers. You can assume that the grid cells in your map are only connected horizontally and vertically (e.g. no diagonal connections). You can assume that 1 represents water (your river) and 0 represents land/your river bank. Each cell has a length of 1 and is square in your map. Given this, write code to determine the perimeter of your river.\n",
    "\n",
    "Examples:\n",
    "```\n",
    "Input: [[1,0]] \n",
    "Output: 4\n",
    "\n",
    "Input: [[1,0,1],\n",
    "        [1,1,1]] \n",
    "Output: 12\n",
    "```"
   ]
  },
  {
   "cell_type": "code",
   "execution_count": 73,
   "metadata": {},
   "outputs": [
    {
     "data": {
      "text/plain": [
       "2"
      ]
     },
     "execution_count": 73,
     "metadata": {},
     "output_type": "execute_result"
    }
   ],
   "source": [
    "#Thought, a river must be connected.\n",
    "# Some river with the same number of grids can have different perimeter\n",
    "# A naive way to solve this problem is to calculate the peremeter along the way\n",
    "# For example, starting with the first 1, if 1 adjacent with 3 other 1, then its accumulated parameter will be 1.\n",
    "# Remember that this is a m by n matrix\n",
    "# Pseudo code: a function that find the number of neighbors of a river grid, and \n",
    "# a function that caculate the perimeter \n",
    "\n",
    "import numpy as np\n",
    "\n",
    "def neighbor(x,y, river_matrix):\n",
    "    river_matrix=np.array(river_matrix)\n",
    "    m,n=river_matrix.shape\n",
    "    count=0\n",
    "    #There are 4 cases, up, down, right, left, and for each case need to consider if they exist\n",
    "    #Up \n",
    "    if (x > 0 and river_matrix[x - 1][y]): \n",
    "        count+= 1; \n",
    "    \n",
    "    # DOWN \n",
    "    if (x < m-1 and river_matrix[x + 1][y]): #Not the last row\n",
    "        count+= 1\n",
    "    # RIGHT \n",
    "    if (y < n-1 and river_matrix[x][y + 1]): \n",
    "        count+= 1;\n",
    "        \n",
    "    # LEFT \n",
    "    if (y > 0 and river_matrix[x][y - 1]): \n",
    "        count+= 1; \n",
    "  \n",
    "    return count\n",
    "\n",
    "\n",
    "A=[[1,0,1], [1,1,1]]\n",
    "x,y = 1,1\n",
    "#Expected output: 2\n",
    "neighbor(x,y, A)"
   ]
  },
  {
   "cell_type": "code",
   "execution_count": 76,
   "metadata": {},
   "outputs": [],
   "source": [
    "def river_perimeter(river_matrix):\n",
    "    #Count number of neighbors of a matrix\n",
    "    river_matrix=np.array(river_matrix)\n",
    "    m,n=river_matrix.shape\n",
    "    perimeter=0\n",
    "    \n",
    "    for row in range(m):\n",
    "        for col in range(n):\n",
    "            if river_matrix[row,col]==1:\n",
    "                num_neighbor=neighbor(row,col,river_matrix)\n",
    "                perimeter+=4-num_neighbor # Note that each neighbor will take 1 perimeter from the river grid\n",
    "    return perimeter"
   ]
  },
  {
   "cell_type": "code",
   "execution_count": 77,
   "metadata": {},
   "outputs": [
    {
     "data": {
      "text/plain": [
       "12"
      ]
     },
     "execution_count": 77,
     "metadata": {},
     "output_type": "execute_result"
    }
   ],
   "source": [
    "river_perimeter(A)"
   ]
  },
  {
   "cell_type": "markdown",
   "metadata": {},
   "source": [
    "## 4)  Easy\n",
    "Suppose you're trying to optimize a mailing campaign where physical mail is sent to potential customers. There are two options to send advertising mail: either first class or third class. First-class costs \\\\$0.50 per parcel with a delivery rate of 99% and third-class costs \\\\$0.35 per parcel with a delivery rate of 65%. Third-class mail also receives a volume discount, if a batch of parcels is greater than 500, for first 500 are \\\\$0.35 and anything additional costs \\\\$0.32 per parcel.\n",
    "\n",
    "Questions:\n",
    "\n",
    "Which option is the best for the company?\n",
    "Assume our goal is to reach as many people with a cap of \\\\$1000, which option would be the best?\n",
    "Assume our goal is to reach 100 people, what option is best?"
   ]
  },
  {
   "cell_type": "code",
   "execution_count": 83,
   "metadata": {},
   "outputs": [
    {
     "data": {
      "text/html": [
       "<div>\n",
       "<style scoped>\n",
       "    .dataframe tbody tr th:only-of-type {\n",
       "        vertical-align: middle;\n",
       "    }\n",
       "\n",
       "    .dataframe tbody tr th {\n",
       "        vertical-align: top;\n",
       "    }\n",
       "\n",
       "    .dataframe thead th {\n",
       "        text-align: right;\n",
       "    }\n",
       "</style>\n",
       "<table border=\"1\" class=\"dataframe\">\n",
       "  <thead>\n",
       "    <tr style=\"text-align: right;\">\n",
       "      <th></th>\n",
       "      <th>Class</th>\n",
       "      <th>Price (n&gt;500)</th>\n",
       "      <th>Price (n&lt;= 500)</th>\n",
       "      <th>Deliver rate</th>\n",
       "    </tr>\n",
       "  </thead>\n",
       "  <tbody>\n",
       "    <tr>\n",
       "      <th>0</th>\n",
       "      <td>1st</td>\n",
       "      <td>0.5*n</td>\n",
       "      <td>0.5*n</td>\n",
       "      <td>99</td>\n",
       "    </tr>\n",
       "    <tr>\n",
       "      <th>1</th>\n",
       "      <td>3rd</td>\n",
       "      <td>0.35*500+(n-500)*0.32</td>\n",
       "      <td>0.35*n</td>\n",
       "      <td>65</td>\n",
       "    </tr>\n",
       "  </tbody>\n",
       "</table>\n",
       "</div>"
      ],
      "text/plain": [
       "  Class          Price (n>500) Price (n<= 500)  Deliver rate\n",
       "0   1st                  0.5*n           0.5*n            99\n",
       "1   3rd  0.35*500+(n-500)*0.32          0.35*n            65"
      ]
     },
     "execution_count": 83,
     "metadata": {},
     "output_type": "execute_result"
    }
   ],
   "source": [
    "#Summary\n",
    "import pandas as pd\n",
    "\n",
    "pd.DataFrame({'Class':[\"1st\",\"3rd\"], 'Price (n>500)':[\"0.5*n\",\"0.35*500+(n-500)*0.32\"],\n",
    "            \"Price (n<= 500)\" : [\"0.5*n\",\"0.35*n\"], \"Deliver rate\": [99,65]})"
   ]
  },
  {
   "cell_type": "code",
   "execution_count": 94,
   "metadata": {},
   "outputs": [
    {
     "name": "stdout",
     "output_type": "stream",
     "text": [
      "# people receive 1st-class package: 1980.0\n",
      "# people receive 3rd-class package: 2000\n"
     ]
    }
   ],
   "source": [
    "# Reach as many people with a cap of $1000\n",
    "\n",
    "#1st class\n",
    "print(\"# people receive 1st-class package:\",(1000/0.5)*0.99)\n",
    "\n",
    "#3rd class: solve 0.35*500+(n-500)*0.32=1000\n",
    "print(\"# people receive 3rd-class package:\",int(((1000-0.35*500)/0.32+500)*0.65))\n",
    "\n",
    "#3rd is better"
   ]
  },
  {
   "cell_type": "code",
   "execution_count": 100,
   "metadata": {},
   "outputs": [
    {
     "name": "stdout",
     "output_type": "stream",
     "text": [
      "# Number of 1st-class package need to send: 102.0\n",
      "Total price: 51.0\n",
      "\n",
      "\n",
      "# Number of 3rd-class package need to send: 154.0\n",
      "Total price: 53.9\n"
     ]
    }
   ],
   "source": [
    "# Reach 100 people, what option is best?\n",
    "#Note that we need to send more than 100 parcels to reach 100 people\n",
    "\n",
    "#1st class\n",
    "n=np.ceil((100*1)/0.99)\n",
    "print(\"# Number of 1st-class package need to send:\",n)\n",
    "print(\"Total price:\",n*0.5)\n",
    "print(\"\\n\")\n",
    "\n",
    "#3rd class\n",
    "n=np.ceil((100*1)/0.65)\n",
    "print(\"# Number of 3rd-class package need to send:\",n)\n",
    "print(\"Total price:\",n*0.35)\n",
    "\n",
    "#1st class is better"
   ]
  },
  {
   "cell_type": "markdown",
   "metadata": {},
   "source": [
    "## 5) Moderate\n",
    "Suppose you're an analyst for an e-commerce store. You're trying to identify the top selling products in Q4 2017 by region, and you have 2 tables that you can query:\n",
    "\n",
    "Table: all_products \n",
    "\n",
    "$$\n",
    "\\begin{array}{|l|l|l|}\n",
    "\\hline \\text { Column Name } & \\text { Data Type } & \\text { Description } \\\\\n",
    "\\hline \\text { product_id } & \\text { integer } & \\text { id of the product } \\\\\n",
    "\\hline \\text { product_name } & \\text { string } & \\text { name of the product } \\\\\n",
    "\\hline \\text { sku } & \\text { integer } & \\text { universal stock keeping unit number } \\\\\n",
    "\\hline \\text { distributor_id } & \\text { integer } & \\text { id for distributor } \\\\\n",
    "\\hline\n",
    "\\end{array}\n",
    "$$\n",
    "\n",
    "Table: orders\n",
    "$$\n",
    "\\begin{array}{|l|l|l|}\n",
    "\\hline \\text { Column Name } & \\text { Data Type } & \\text { Description } \\\\\n",
    "\\hline \\text { date } & \\text { string } & \\text { format is \"YYYY-MM-DD\" } \\\\\n",
    "\\hline \\text { user_id } & \\text { integer } & \\text { id of purchaser } \\\\\n",
    "\\hline \\text { order_id } & \\text { integer } & \\text { id of order number } \\\\\n",
    "\\hline \\text { productid } & \\text { integer } & \\text { id of product } \\\\\n",
    "\\hline \\text { no_units } & \\text { integer } & \\text { number of units sold in the order } \\\\\n",
    "\\hline \\text { price } & \\text { integer } & \\text { price per item } \\\\\n",
    "\\hline \\text { shipping_id } & \\text { integer } & \\text { id of shipment } \\\\\n",
    "\\hline \\text { region } & \\text { string } & \\text { region being shipped to } \\\\\n",
    "\\hline\n",
    "\\end{array}\n",
    "$$\n",
    "\n",
    "Using the tables above, write a SQL query to find the top 5 selling products (in terms of total units sold) by region in Q4 of 2017. Include both the distributor id as well as the name of the product in your results.\n",
    "\n"
   ]
  },
  {
   "cell_type": "markdown",
   "metadata": {},
   "source": [
    "### ANSWER: \n",
    "Not sure about this one\n",
    "\n",
    "**SQL:**\n",
    "```\n",
    "SELECT product_id,product_name,SUM(no_units) AS total_unit \n",
    "\n",
    "FROM all_products JOIN orders ON product_id = productid\n",
    "\n",
    "WHERE MONTH(date) IN (10,11,12) AND YEAR(date) = 2017\n",
    "\n",
    "GROUPBY product_id\n",
    "\n",
    "ORDER BY total_unit DESC\n",
    "\n",
    "LIMIT 5\n",
    "```\n",
    "\n",
    "**PANDAS**\n",
    "```\n",
    "df=all_products.join(lsuffix ='product_id' , rsuffix='productid')\n",
    "df[(df.date[:4]=='2017') & df.date[5:7].isin(['10','11','12'])]\n",
    ".groupby(product_id)\n",
    ".sum()\n",
    ".sort_values(by='col1', ascending=False)['product_id','product_name','no_units']\n",
    ".head(5)\n",
    " ```        "
   ]
  },
  {
   "cell_type": "markdown",
   "metadata": {},
   "source": [
    "## 6) Moderate\n",
    "Suppose you're given the following information about a population and its wealth distribution:\n",
    "\n",
    "* Population size: 2500\n",
    "\n",
    "* Mean income (in USD, thousands): 50\n",
    "\n",
    "* Standard deviation of income (in USD, thousands): 12.5\n",
    "\n",
    "The population wealth is initially normally distributed\n",
    "\n",
    "Additionally, you're told that economic transactions occur randomly between two individuals in the population. In a transaction, two parties come together and there is an exchange of wealth. For the purposes of this question, the transactions can be modeled in the following way:\n",
    "\n",
    "Two individuals come together at random\n",
    "\n",
    "When they interact, their wealth is put into a pot, and is then split randomly and uniformly between the two parties\n",
    "\n",
    "Given this information, write a simulation to show how wealth of the population will change over time. You can simulate 50 time steps (or transactions per individual).\n"
   ]
  },
  {
   "cell_type": "code",
   "execution_count": 157,
   "metadata": {},
   "outputs": [
    {
     "data": {
      "image/png": "[encoded data removed]",
      "text/plain": [
       "<Figure size 432x288 with 1 Axes>"
      ]
     },
     "metadata": {
      "needs_background": "light"
     },
     "output_type": "display_data"
    }
   ],
   "source": [
    "import seaborn as sns\n",
    "import matplotlib.pyplot as plt\n",
    "pop=2500\n",
    "mu=50\n",
    "sigma=12.5\n",
    "pop_pool= np.random.normal(mu, sigma, pop)\n",
    "\n",
    "sns.distplot(pop_pool)\n",
    "plt.show()"
   ]
  },
  {
   "cell_type": "code",
   "execution_count": 163,
   "metadata": {},
   "outputs": [
    {
     "data": {
      "image/png": "[encoded data removed]",
      "text/plain": [
       "<Figure size 432x288 with 1 Axes>"
      ]
     },
     "metadata": {
      "needs_background": "light"
     },
     "output_type": "display_data"
    }
   ],
   "source": [
    "num_iter=1000\n",
    "\n",
    "for i in range(num_iter):\n",
    "    #Randomize people\n",
    "    person_1=random.randint(0,pop)\n",
    "    while True:   \n",
    "        person_2=random.randint(0,pop) \n",
    "        if(person_2 != person_1):  \n",
    "            break  \n",
    "    fraction=random.random() #Number in [0,1]\n",
    "    \n",
    "    #Redistribution\n",
    "    total=pop_pool[person_1]+pop_pool[person_2]\n",
    "    pop_pool[person_1]=total*fraction \n",
    "    pop_pool[person_2]=total*(1-fraction)\n",
    "\n",
    "sns.distplot(pop_pool)  \n",
    "plt.show()"
   ]
  },
  {
   "cell_type": "markdown",
   "metadata": {},
   "source": [
    "Interesting: The classes are seriously stratified after 1000 transactions."
   ]
  }
 ],
 "metadata": {
  "kernelspec": {
   "display_name": "Python 3",
   "language": "python",
   "name": "python3"
  },
  "language_info": {
   "codemirror_mode": {
    "name": "ipython",
    "version": 3
   },
   "file_extension": ".py",
   "mimetype": "text/x-python",
   "name": "python",
   "nbconvert_exporter": "python",
   "pygments_lexer": "ipython3",
   "version": "3.7.3"
  }
 },
 "nbformat": 4,
 "nbformat_minor": 2
}
