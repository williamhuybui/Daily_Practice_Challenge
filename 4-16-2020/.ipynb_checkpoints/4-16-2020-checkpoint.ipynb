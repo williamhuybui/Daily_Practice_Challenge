{
 "cells": [
  {
   "cell_type": "code",
   "execution_count": 2,
   "metadata": {},
   "outputs": [],
   "source": [
    "import pandas as pd\n",
    "import numpy as np"
   ]
  },
  {
   "cell_type": "markdown",
   "metadata": {},
   "source": [
    "## 7) Weather forecasting, a Markov Chain problem (Moderate)\n",
    "\n",
    "In a particular area, there are 2 types of weather: sunny and rainy. The following is observed across a couple year period.\n",
    "\n",
    "* The probability of weather staying sunny the following week is 80%.\n",
    "\n",
    "* The probability of the weather changing from sunny to rainy is 20%.\n",
    "\n",
    "* The probability of the weather staying rainy from the following week is 70%.\n",
    "\n",
    "* The probability of weather changing from rainy to sunny over a week is 30%.\n",
    "\n",
    "Given this information, can you create a transition matrix and calculate the steady state vector?\n",
    "\n",
    "If you need a refresher, here is a resource on [Markov Chains](https://en.wikipedia.org/wiki/Markov_chain)."
   ]
  },
  {
   "cell_type": "markdown",
   "metadata": {},
   "source": [
    "### Answer\n",
    "\n",
    "If you do not know about Markov Chains, watch the first 2 min of this [video](https://www.youtube.com/watch?v=Flj52QaHYVU) and the first 2 min of this [video](https://www.youtube.com/watch?v=8noldJCb86Y)"
   ]
  },
  {
   "cell_type": "code",
   "execution_count": 3,
   "metadata": {},
   "outputs": [
    {
     "data": {
      "text/html": [
       "<div>\n",
       "<style scoped>\n",
       "    .dataframe tbody tr th:only-of-type {\n",
       "        vertical-align: middle;\n",
       "    }\n",
       "\n",
       "    .dataframe tbody tr th {\n",
       "        vertical-align: top;\n",
       "    }\n",
       "\n",
       "    .dataframe thead th {\n",
       "        text-align: right;\n",
       "    }\n",
       "</style>\n",
       "<table border=\"1\" class=\"dataframe\">\n",
       "  <thead>\n",
       "    <tr style=\"text-align: right;\">\n",
       "      <th></th>\n",
       "      <th>Sunny</th>\n",
       "      <th>Rainy</th>\n",
       "    </tr>\n",
       "  </thead>\n",
       "  <tbody>\n",
       "    <tr>\n",
       "      <th>Sunny</th>\n",
       "      <td>0.8</td>\n",
       "      <td>0.2</td>\n",
       "    </tr>\n",
       "    <tr>\n",
       "      <th>Rainy</th>\n",
       "      <td>0.3</td>\n",
       "      <td>0.7</td>\n",
       "    </tr>\n",
       "  </tbody>\n",
       "</table>\n",
       "</div>"
      ],
      "text/plain": [
       "       Sunny  Rainy\n",
       "Sunny    0.8    0.2\n",
       "Rainy    0.3    0.7"
      ]
     },
     "execution_count": 3,
     "metadata": {},
     "output_type": "execute_result"
    }
   ],
   "source": [
    "#Summary \n",
    "df=pd.DataFrame({'Sunny': [0.8,0.3], 'Rainy':[0.2,0.7]}, index=['Sunny','Rainy'])\n",
    "df"
   ]
  },
  {
   "cell_type": "markdown",
   "metadata": {},
   "source": [
    "Basically, a steady vector state L is the vector that cannon be transform by the transition matrix, ie:\n",
    "\n",
    "$$A\\times L=L$$\n",
    "$$(A-I)L=0$$\n",
    "\n",
    "$I$ is the identity matrix. Note that by solving this equation, you will have infinitely many solution. \n",
    "\n",
    "Therefore, we also need to take into account that the row must add up to 1."
   ]
  },
  {
   "cell_type": "code",
   "execution_count": 4,
   "metadata": {},
   "outputs": [
    {
     "data": {
      "text/plain": [
       "array([[-0.2,  0.3],\n",
       "       [ 0.2, -0.3]])"
      ]
     },
     "execution_count": 4,
     "metadata": {},
     "output_type": "execute_result"
    }
   ],
   "source": [
    "A=np.array([[0.8,0.2],[0.3,0.7]])\n",
    "I=np.array([[1,0],[0,1]])\n",
    "left=(A-I).T\n",
    "left"
   ]
  },
  {
   "cell_type": "code",
   "execution_count": 5,
   "metadata": {},
   "outputs": [
    {
     "name": "stdout",
     "output_type": "stream",
     "text": [
      "The steady vector state L is\n"
     ]
    },
    {
     "data": {
      "text/plain": [
       "array([0.6, 0.4])"
      ]
     },
     "execution_count": 5,
     "metadata": {},
     "output_type": "execute_result"
    }
   ],
   "source": [
    "#The top one can be reduce to 0.2x - 0.3y =0\n",
    "#Also, x+y=1\n",
    "A_new=np.array([[1,1],[0.2,-0.3]])\n",
    "b=np.array([1,0]).T\n",
    "\n",
    "print(\"The steady vector state L is\")\n",
    "np.linalg.solve(A_new,b)"
   ]
  },
  {
   "cell_type": "markdown",
   "metadata": {},
   "source": [
    "## 8) Reverse an array, up to a a point (Easy)\n",
    "Suppose you're given an array, $a$, as well as a position, $p$. Write a function to reverse your array, but only up to the position given in $p$. The rest of your array should remain untouched.\n",
    "\n",
    "For example, given the following:\n",
    "\n",
    "```\n",
    "a = [1, 3, 4, 6]\n",
    "p = 2\n",
    "```\n",
    "\n",
    "Your function should return:\n",
    "```\n",
    "[3,1,4,6]\n",
    "```"
   ]
  },
  {
   "cell_type": "code",
   "execution_count": 6,
   "metadata": {},
   "outputs": [
    {
     "data": {
      "text/plain": [
       "[3, 1, 4, 6]"
      ]
     },
     "execution_count": 6,
     "metadata": {},
     "output_type": "execute_result"
    }
   ],
   "source": [
    "#Thought: just cut off the array at that position and add them back\n",
    "\n",
    "def p_inverse(array_a,p):\n",
    "    a_change=array_a[:p]\n",
    "    new_array=[]\n",
    "    for i in range(len(a_change)):\n",
    "        new_array.append(a_change[-(i+1)])\n",
    "        \n",
    "    new_array=new_array+array_a[p:]\n",
    "    return new_array\n",
    "\n",
    "p_inverse([1, 3, 4, 6],2)"
   ]
  },
  {
   "cell_type": "markdown",
   "metadata": {},
   "source": [
    "## 9) Querying San Francisco Public Worker Salaries (Easy)\n",
    "<img src=\"question.PNG\" alt=\"Italian Trulli\">"
   ]
  },
  {
   "cell_type": "code",
   "execution_count": 29,
   "metadata": {},
   "outputs": [
    {
     "name": "stderr",
     "output_type": "stream",
     "text": [
      "/Users/huybui/anaconda3/lib/python3.7/site-packages/IPython/core/interactiveshell.py:3044: DtypeWarning: Columns (3,4,5,6,12) have mixed types. Specify dtype option on import or set low_memory=False.\n",
      "  interactivity=interactivity, compiler=compiler, result=result)\n"
     ]
    },
    {
     "data": {
      "text/html": [
       "<div>\n",
       "<style scoped>\n",
       "    .dataframe tbody tr th:only-of-type {\n",
       "        vertical-align: middle;\n",
       "    }\n",
       "\n",
       "    .dataframe tbody tr th {\n",
       "        vertical-align: top;\n",
       "    }\n",
       "\n",
       "    .dataframe thead th {\n",
       "        text-align: right;\n",
       "    }\n",
       "</style>\n",
       "<table border=\"1\" class=\"dataframe\">\n",
       "  <thead>\n",
       "    <tr style=\"text-align: right;\">\n",
       "      <th></th>\n",
       "      <th>Id</th>\n",
       "      <th>EmployeeName</th>\n",
       "      <th>JobTitle</th>\n",
       "      <th>BasePay</th>\n",
       "      <th>OvertimePay</th>\n",
       "      <th>OtherPay</th>\n",
       "      <th>Benefits</th>\n",
       "      <th>TotalPay</th>\n",
       "      <th>TotalPayBenefits</th>\n",
       "      <th>Year</th>\n",
       "      <th>Notes</th>\n",
       "      <th>Agency</th>\n",
       "      <th>Status</th>\n",
       "    </tr>\n",
       "  </thead>\n",
       "  <tbody>\n",
       "    <tr>\n",
       "      <th>0</th>\n",
       "      <td>1</td>\n",
       "      <td>NATHANIEL FORD</td>\n",
       "      <td>GENERAL MANAGER-METROPOLITAN TRANSIT AUTHORITY</td>\n",
       "      <td>167411</td>\n",
       "      <td>0</td>\n",
       "      <td>400184</td>\n",
       "      <td>NaN</td>\n",
       "      <td>567595.43</td>\n",
       "      <td>567595.43</td>\n",
       "      <td>2011</td>\n",
       "      <td>NaN</td>\n",
       "      <td>San Francisco</td>\n",
       "      <td>NaN</td>\n",
       "    </tr>\n",
       "    <tr>\n",
       "      <th>1</th>\n",
       "      <td>2</td>\n",
       "      <td>GARY JIMENEZ</td>\n",
       "      <td>CAPTAIN III (POLICE DEPARTMENT)</td>\n",
       "      <td>155966</td>\n",
       "      <td>245132</td>\n",
       "      <td>137811</td>\n",
       "      <td>NaN</td>\n",
       "      <td>538909.28</td>\n",
       "      <td>538909.28</td>\n",
       "      <td>2011</td>\n",
       "      <td>NaN</td>\n",
       "      <td>San Francisco</td>\n",
       "      <td>NaN</td>\n",
       "    </tr>\n",
       "    <tr>\n",
       "      <th>2</th>\n",
       "      <td>3</td>\n",
       "      <td>ALBERT PARDINI</td>\n",
       "      <td>CAPTAIN III (POLICE DEPARTMENT)</td>\n",
       "      <td>212739</td>\n",
       "      <td>106088</td>\n",
       "      <td>16452.6</td>\n",
       "      <td>NaN</td>\n",
       "      <td>335279.91</td>\n",
       "      <td>335279.91</td>\n",
       "      <td>2011</td>\n",
       "      <td>NaN</td>\n",
       "      <td>San Francisco</td>\n",
       "      <td>NaN</td>\n",
       "    </tr>\n",
       "    <tr>\n",
       "      <th>3</th>\n",
       "      <td>4</td>\n",
       "      <td>CHRISTOPHER CHONG</td>\n",
       "      <td>WIRE ROPE CABLE MAINTENANCE MECHANIC</td>\n",
       "      <td>77916</td>\n",
       "      <td>56120.7</td>\n",
       "      <td>198307</td>\n",
       "      <td>NaN</td>\n",
       "      <td>332343.61</td>\n",
       "      <td>332343.61</td>\n",
       "      <td>2011</td>\n",
       "      <td>NaN</td>\n",
       "      <td>San Francisco</td>\n",
       "      <td>NaN</td>\n",
       "    </tr>\n",
       "    <tr>\n",
       "      <th>4</th>\n",
       "      <td>5</td>\n",
       "      <td>PATRICK GARDNER</td>\n",
       "      <td>DEPUTY CHIEF OF DEPARTMENT,(FIRE DEPARTMENT)</td>\n",
       "      <td>134402</td>\n",
       "      <td>9737</td>\n",
       "      <td>182235</td>\n",
       "      <td>NaN</td>\n",
       "      <td>326373.19</td>\n",
       "      <td>326373.19</td>\n",
       "      <td>2011</td>\n",
       "      <td>NaN</td>\n",
       "      <td>San Francisco</td>\n",
       "      <td>NaN</td>\n",
       "    </tr>\n",
       "  </tbody>\n",
       "</table>\n",
       "</div>"
      ],
      "text/plain": [
       "   Id       EmployeeName                                        JobTitle  \\\n",
       "0   1     NATHANIEL FORD  GENERAL MANAGER-METROPOLITAN TRANSIT AUTHORITY   \n",
       "1   2       GARY JIMENEZ                 CAPTAIN III (POLICE DEPARTMENT)   \n",
       "2   3     ALBERT PARDINI                 CAPTAIN III (POLICE DEPARTMENT)   \n",
       "3   4  CHRISTOPHER CHONG            WIRE ROPE CABLE MAINTENANCE MECHANIC   \n",
       "4   5    PATRICK GARDNER    DEPUTY CHIEF OF DEPARTMENT,(FIRE DEPARTMENT)   \n",
       "\n",
       "  BasePay OvertimePay OtherPay Benefits   TotalPay  TotalPayBenefits  Year  \\\n",
       "0  167411           0   400184      NaN  567595.43         567595.43  2011   \n",
       "1  155966      245132   137811      NaN  538909.28         538909.28  2011   \n",
       "2  212739      106088  16452.6      NaN  335279.91         335279.91  2011   \n",
       "3   77916     56120.7   198307      NaN  332343.61         332343.61  2011   \n",
       "4  134402        9737   182235      NaN  326373.19         326373.19  2011   \n",
       "\n",
       "   Notes         Agency Status  \n",
       "0    NaN  San Francisco    NaN  \n",
       "1    NaN  San Francisco    NaN  \n",
       "2    NaN  San Francisco    NaN  \n",
       "3    NaN  San Francisco    NaN  \n",
       "4    NaN  San Francisco    NaN  "
      ]
     },
     "execution_count": 29,
     "metadata": {},
     "output_type": "execute_result"
    }
   ],
   "source": [
    "df=pd.read_csv(\"sf_salaries.csv\")\n",
    "df.head()"
   ]
  },
  {
   "cell_type": "code",
   "execution_count": 24,
   "metadata": {},
   "outputs": [
    {
     "data": {
      "text/html": [
       "<div>\n",
       "<style scoped>\n",
       "    .dataframe tbody tr th:only-of-type {\n",
       "        vertical-align: middle;\n",
       "    }\n",
       "\n",
       "    .dataframe tbody tr th {\n",
       "        vertical-align: top;\n",
       "    }\n",
       "\n",
       "    .dataframe thead th {\n",
       "        text-align: right;\n",
       "    }\n",
       "</style>\n",
       "<table border=\"1\" class=\"dataframe\">\n",
       "  <thead>\n",
       "    <tr style=\"text-align: right;\">\n",
       "      <th></th>\n",
       "      <th>TotalPay</th>\n",
       "    </tr>\n",
       "    <tr>\n",
       "      <th>JobTitle</th>\n",
       "      <th></th>\n",
       "    </tr>\n",
       "  </thead>\n",
       "  <tbody>\n",
       "    <tr>\n",
       "      <th>GENERAL MANAGER-METROPOLITAN TRANSIT AUTHORITY</th>\n",
       "      <td>399211.275000</td>\n",
       "    </tr>\n",
       "    <tr>\n",
       "      <th>Chief Investment Officer</th>\n",
       "      <td>339653.700000</td>\n",
       "    </tr>\n",
       "    <tr>\n",
       "      <th>Chief of Police</th>\n",
       "      <td>329183.646667</td>\n",
       "    </tr>\n",
       "    <tr>\n",
       "      <th>BOARD/COMMISSION MEMBER, GROUP II</th>\n",
       "      <td>296.511628</td>\n",
       "    </tr>\n",
       "    <tr>\n",
       "      <th>BdComm Mbr, Grp2,M=$25/Mtg</th>\n",
       "      <td>270.305785</td>\n",
       "    </tr>\n",
       "    <tr>\n",
       "      <th>PUBLIC SAFETY COMMUNICATIONS TECHNICIAN</th>\n",
       "      <td>149.510000</td>\n",
       "    </tr>\n",
       "  </tbody>\n",
       "</table>\n",
       "</div>"
      ],
      "text/plain": [
       "                                                     TotalPay\n",
       "JobTitle                                                     \n",
       "GENERAL MANAGER-METROPOLITAN TRANSIT AUTHORITY  399211.275000\n",
       "Chief Investment Officer                        339653.700000\n",
       "Chief of Police                                 329183.646667\n",
       "BOARD/COMMISSION MEMBER, GROUP II                  296.511628\n",
       "BdComm Mbr, Grp2,M=$25/Mtg                         270.305785\n",
       "PUBLIC SAFETY COMMUNICATIONS TECHNICIAN            149.510000"
      ]
     },
     "execution_count": 24,
     "metadata": {},
     "output_type": "execute_result"
    }
   ],
   "source": [
    "#PANDAS\n",
    "#3 highest and 3 lowest paid job title\n",
    "\n",
    "#Thought: groupby job titles and find the average? Eliminate job with 0 salaries\n",
    "df=df[df.TotalPay>0]\n",
    "df_new=df.groupby(\"JobTitle\").mean()[['TotalPay']].sort_values(by='TotalPay',ascending=False)\n",
    "df_new=df_new.head(3).append(df_new.tail(3))\n",
    "df_new"
   ]
  },
  {
   "cell_type": "markdown",
   "metadata": {},
   "source": [
    "**SQL**\n",
    "\n",
    "SELECT JobTitle , AVG(TotalPay) AS MeanTotalPay \n",
    "\n",
    "FROM sf_salaries \n",
    "\n",
    "GROUPBY JobTitle\n",
    "\n",
    "HAVING TotalPay>0\n",
    "\n",
    "ORDER BY MeanTotalPay DESC\n",
    "\n",
    "LIMIT 5\n",
    "\n",
    "Then do another one with ASC and union them together"
   ]
  },
  {
   "cell_type": "code",
   "execution_count": 71,
   "metadata": {},
   "outputs": [
    {
     "data": {
      "text/plain": [
       "array([2011, 2012, 2013, 2014])"
      ]
     },
     "execution_count": 71,
     "metadata": {},
     "output_type": "execute_result"
    }
   ],
   "source": [
    "df.Year.unique()"
   ]
  },
  {
   "cell_type": "code",
   "execution_count": 68,
   "metadata": {},
   "outputs": [
    {
     "data": {
      "text/html": [
       "<div>\n",
       "<style scoped>\n",
       "    .dataframe tbody tr th:only-of-type {\n",
       "        vertical-align: middle;\n",
       "    }\n",
       "\n",
       "    .dataframe tbody tr th {\n",
       "        vertical-align: top;\n",
       "    }\n",
       "\n",
       "    .dataframe thead th {\n",
       "        text-align: right;\n",
       "    }\n",
       "</style>\n",
       "<table border=\"1\" class=\"dataframe\">\n",
       "  <thead>\n",
       "    <tr style=\"text-align: right;\">\n",
       "      <th></th>\n",
       "      <th>EmployeeName</th>\n",
       "      <th>JobTitle</th>\n",
       "      <th>TotalPay</th>\n",
       "    </tr>\n",
       "  </thead>\n",
       "  <tbody>\n",
       "    <tr>\n",
       "      <th>37235</th>\n",
       "      <td>Jeffrey Hildebrant</td>\n",
       "      <td>IS Business Analyst-Principal</td>\n",
       "      <td>178813.70</td>\n",
       "    </tr>\n",
       "    <tr>\n",
       "      <th>76364</th>\n",
       "      <td>Adam B Mazurkiewicz</td>\n",
       "      <td>Water Operations Analyst</td>\n",
       "      <td>152848.32</td>\n",
       "    </tr>\n",
       "    <tr>\n",
       "      <th>38605</th>\n",
       "      <td>Bharti Muni</td>\n",
       "      <td>IS Business Analyst-Principal</td>\n",
       "      <td>152734.79</td>\n",
       "    </tr>\n",
       "    <tr>\n",
       "      <th>2176</th>\n",
       "      <td>BRENDA WALKER</td>\n",
       "      <td>PRINCIPAL ADMINISTRATIVE ANALYST</td>\n",
       "      <td>150722.45</td>\n",
       "    </tr>\n",
       "    <tr>\n",
       "      <th>38905</th>\n",
       "      <td>Jan Crosbie Taylor</td>\n",
       "      <td>Pr Administrative Analyst</td>\n",
       "      <td>149630.98</td>\n",
       "    </tr>\n",
       "  </tbody>\n",
       "</table>\n",
       "</div>"
      ],
      "text/plain": [
       "              EmployeeName                          JobTitle   TotalPay\n",
       "37235   Jeffrey Hildebrant     IS Business Analyst-Principal  178813.70\n",
       "76364  Adam B Mazurkiewicz          Water Operations Analyst  152848.32\n",
       "38605          Bharti Muni     IS Business Analyst-Principal  152734.79\n",
       "2176         BRENDA WALKER  PRINCIPAL ADMINISTRATIVE ANALYST  150722.45\n",
       "38905   Jan Crosbie Taylor         Pr Administrative Analyst  149630.98"
      ]
     },
     "execution_count": 68,
     "metadata": {},
     "output_type": "execute_result"
    }
   ],
   "source": [
    "#BONUS\n",
    "\n",
    "#SALARY OF Data scientist, analyst, and, statistician\n",
    "jobs=[i for i in df.JobTitle.unique() \n",
    " if (\"data\" in i.lower()) \n",
    "     or (\"analyst\" in i.lower()) \n",
    "    or (\"statistician\" in i.lower())]\n",
    "\n",
    "#Top 5 paid individuals\n",
    "df[df.JobTitle.isin(jobs)].sort_values(by=\"TotalPay\",ascending=False)[[\"EmployeeName\"\n",
    "                                                                      ,\"JobTitle\",\"TotalPay\"]].head(5)"
   ]
  },
  {
   "cell_type": "markdown",
   "metadata": {},
   "source": [
    "## 10) Probability of passing through interview stages (Easy)\n",
    "\n",
    "Given the information below, if you had a good first interview, what is the probability you will receive a second interview?\n",
    "\n",
    "* 50% of all people who received a first interview received a second interview\n",
    "* 95% of people that received a second interview had a good first interview\n",
    "* 75% of people that did not receive a second interview had a good first interview\n"
   ]
  },
  {
   "cell_type": "markdown",
   "metadata": {},
   "source": [
    "**Answer**\n",
    "\n",
    "Let A be receiving a second interview, B be receiving a good first interview. Bayes' formula\n",
    "\n",
    "$$\n",
    "\\begin{aligned}\n",
    "&P(A | B)=\\frac{P(B | A)\\cdot P(A)}{ P(B)}\\\\\n",
    "&P(A | B)=\\frac{P(B | A) \\cdot P(A)}{P(B | A) \\cdot P(A)+P(B | \\neg A) \\cdot P(\\neg A)}\n",
    "\\end{aligned}\n",
    "$$\n",
    "where\n",
    "* $P(B|A)=0.95$\n",
    "* $P(A)=0.5$\n",
    "* $P(B | \\neg A)= 0.75$\n",
    "* $P(\\neg A)= 1-P(A)=0.5$"
   ]
  },
  {
   "cell_type": "code",
   "execution_count": 76,
   "metadata": {},
   "outputs": [
    {
     "name": "stdout",
     "output_type": "stream",
     "text": [
      "If you had a good first interview, the probability you will receive a second interview is: \n",
      "0.5588235294117647\n"
     ]
    }
   ],
   "source": [
    "P_A_B=(0.95*0.5)/(0.95*0.5+0.75*0.5)\n",
    "print(\"If you had a good first interview, the probability you will receive a second interview is: \")\n",
    "print(P_A_B)"
   ]
  },
  {
   "cell_type": "markdown",
   "metadata": {},
   "source": [
    "## 11) Check whether two arrays are equal\n",
    "Given two arrays, write a function in vanilla Python (e.g., no libraries) to check whether or not the arrays are equal. You can consider the two arrays equal if both of them contain the same set of elements - the order of elements can differ.\n",
    "\n",
    "For example: \n",
    "```\n",
    "#Given the following:\n",
    "\n",
    "arr1 = [1,5,6,7,8,0]\n",
    "arr2 = [0,5,7,6,8,1]\n",
    "#output = True\n",
    "\n",
    "arr3 = [1,5,6,7,8,0]\n",
    "arr4 = [0,7,7,7,8,1]\n",
    "#output = False\n",
    "```"
   ]
  },
  {
   "cell_type": "code",
   "execution_count": 92,
   "metadata": {},
   "outputs": [
    {
     "name": "stdout",
     "output_type": "stream",
     "text": [
      "True\n",
      "False\n"
     ]
    }
   ],
   "source": [
    "arr1=[1,5,6,7,8,0]\n",
    "arr2 = [0,5,7,6,8,1]\n",
    "arr3 = [1,5,6,7,8,0]\n",
    "arr4 = [0,7,7,7,8,1]\n",
    "\n",
    "#With set\n",
    "def compare_1(a,b):\n",
    "    return set(a)==set(b)\n",
    "\n",
    "print(compare_1(arr1,arr2))\n",
    "print(compare_1(arr3,arr4))"
   ]
  },
  {
   "cell_type": "code",
   "execution_count": 91,
   "metadata": {},
   "outputs": [
    {
     "name": "stdout",
     "output_type": "stream",
     "text": [
      "True\n",
      "False\n"
     ]
    }
   ],
   "source": [
    "#Without set\n",
    "\n",
    "#Thought: sort them and compare\n",
    "def compare_2(a,b):\n",
    "    a.sort()\n",
    "    b.sort()\n",
    "    return a==b\n",
    "\n",
    "print(compare_2(arr1,arr2))\n",
    "print(compare_2(arr3,arr4))"
   ]
  },
  {
   "cell_type": "markdown",
   "metadata": {},
   "source": [
    "## 12) Creating K-Mean Clustering from scratch\n",
    "\n",
    "**Pseudo Code:**\n",
    "\n",
    "**Input:** K, set of point $x_1,x_2,...,x_n$\n",
    "\n",
    "Place centroids: $c_1, c_2, ..., c_k$ at random location\n",
    "\n",
    "Repeat until convergence:\n",
    "\n",
    "* For each point $x_i$ find nearest centroid $c_j$ (Euclidean distance), then $x_i$ will belong to cluster $j$\n",
    "* Calculate the new centroid for $k$ clusters.\n",
    "\n",
    "\n",
    "Next time ..."
   ]
  }
 ],
 "metadata": {
  "kernelspec": {
   "display_name": "Python 3",
   "language": "python",
   "name": "python3"
  },
  "language_info": {
   "codemirror_mode": {
    "name": "ipython",
    "version": 3
   },
   "file_extension": ".py",
   "mimetype": "text/x-python",
   "name": "python",
   "nbconvert_exporter": "python",
   "pygments_lexer": "ipython3",
   "version": "3.7.3"
  }
 },
 "nbformat": 4,
 "nbformat_minor": 2
}
